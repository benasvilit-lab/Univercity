{
  "cells": [
    {
      "cell_type": "markdown",
      "metadata": {
        "id": "view-in-github",
        "colab_type": "text"
      },
      "source": [
        "<a href=\"https://colab.research.google.com/github/benasvilit-lab/Univercity/blob/main/Tasks/%D0%94%D0%BE%D0%BF%D0%BE%D0%BB%D0%BD%D0%B8%D1%82%D0%B5%D0%BB%D1%8C%D0%BD%D0%BE%D0%B5_%D0%B7%D0%B0%D0%B4%D0%B0%D0%BD%D0%B8%D0%B5_%E2%84%963_%D0%9E%D0%B1%D1%80%D0%B0%D0%B1%D0%BE%D1%82%D0%BA%D0%B0_%D0%B8%D1%81%D0%BA%D0%BB%D1%8E%D1%87%D0%B5%D0%BD%D0%B8%D0%B9_%D0%B8_%D1%80%D0%B0%D0%B1%D0%BE%D1%82%D0%B0_%D1%81_%D1%82%D0%B5%D0%BA%D1%81%D1%82%D0%BE%D0%B2%D1%8B%D0%BC%D0%B8_%D1%84%D0%B0%D0%B9%D0%BB%D0%B0%D0%BC%D0%B8_ipynb.ipynb\" target=\"_parent\"><img src=\"https://colab.research.google.com/assets/colab-badge.svg\" alt=\"Open In Colab\"/></a>"
      ]
    },
    {
      "cell_type": "markdown",
      "id": "bb332bf9",
      "metadata": {
        "id": "bb332bf9"
      },
      "source": [
        "# **Дополнительное задание №3. Обработка исключений и работа с текстовыми файлами**"
      ]
    },
    {
      "cell_type": "markdown",
      "id": "aa6808db",
      "metadata": {
        "id": "aa6808db"
      },
      "source": [
        "**БАЗА:**\n",
        "\n",
        "- **Обработка исключений** позволяет перехватывать и обрабатывать ошибки, возникающие при выполнении программы, предотвращая её аварийное завершение.\n",
        "- **Работа с файлами** - важный навык для чтения, записи и обработки текстовой информации в Python.\n",
        "\n",
        "---"
      ]
    },
    {
      "cell_type": "markdown",
      "id": "2478deca",
      "metadata": {
        "id": "2478deca"
      },
      "source": [
        "## **I. Обработка исключений**"
      ]
    },
    {
      "cell_type": "markdown",
      "id": "0ab0b851",
      "metadata": {
        "id": "0ab0b851"
      },
      "source": [
        "### **Пункт №1. Обработка некорректного индекса (IndexError)**"
      ]
    },
    {
      "cell_type": "markdown",
      "id": "46e69e1f",
      "metadata": {
        "id": "46e69e1f"
      },
      "source": [
        "Создайте список из нескольких элементов (например, [10, 20, 30]). Попросите пользователя ввести индекс элемента, который нужно вывести. Если пользователь введёт индекс, выходящий за границы списка, перехватите IndexError и сообщите об этом.\n",
        "\n",
        "**ОБЯЗАТЕЛЬНО:**\n",
        "- Создайте список из минимум 5 элементов\n",
        "- Покажите содержимое списка перед работой\n",
        "- Протестируйте минимум 4 случая (корректный индекс, отрицательный, слишком большой, нечисловое значение)"
      ]
    },
    {
      "cell_type": "code",
      "execution_count": null,
      "id": "724c5954",
      "metadata": {
        "id": "724c5954",
        "colab": {
          "base_uri": "https://localhost:8080/"
        },
        "outputId": "cc316973-602c-4abc-892b-1d0291c2a558"
      },
      "outputs": [
        {
          "output_type": "stream",
          "name": "stdout",
          "text": [
            "[10, 20, 30, 40, 50, 60, 70, 80]\n",
            "Введите индекс элемента: aaa\n",
            "Вы ввели нечисловое значение!\n"
          ]
        }
      ],
      "source": [
        "# Ваш код и демонстрация работы\n",
        "try:\n",
        "  lst = [10, 20, 30, 40, 50, 60, 70, 80]\n",
        "  print(lst)\n",
        "  num = int(input('Введите индекс элемента: '))\n",
        "  print(lst[num])\n",
        "except IndexError:\n",
        "     print('Ваш индекс выходит за границы списка!')\n",
        "except ValueError:\n",
        "     print('Вы ввели нечисловое значение!')"
      ]
    },
    {
      "cell_type": "markdown",
      "id": "7ac84eec",
      "metadata": {
        "id": "7ac84eec"
      },
      "source": [
        "---"
      ]
    },
    {
      "cell_type": "markdown",
      "id": "f8bfb6e1",
      "metadata": {
        "id": "f8bfb6e1"
      },
      "source": [
        "### **Пункт №2. Обработка исключений в цикле**"
      ]
    },
    {
      "cell_type": "markdown",
      "id": "63c3b706",
      "metadata": {
        "id": "63c3b706"
      },
      "source": [
        "Напишите программу, которая запрашивает у пользователя числа и добавляет их в список.\n",
        "- Если пользователь вводит некорректные данные, программа должна выводить сообщение об ошибке и продолжать работу.\n",
        "- Для выхода из программы пользователь должен ввести \"стоп\".\n",
        "\n",
        "**ОБЯЗАТЕЛЬНО:**\n",
        "- Покажите процесс ввода минимум 7 значений (включая ошибочные)\n",
        "- Выведите финальный список и статистику (сколько чисел введено успешно, сколько ошибок)"
      ]
    },
    {
      "cell_type": "markdown",
      "source": [
        "\n",
        "\n",
        "```\n",
        "# Пример:\n",
        "# Введите число: 10\n",
        "# Введите число: текст (Ошибка: это не число)\n",
        "# Введите число: стоп\n",
        "# Итоговый список: [10]\n",
        "```\n",
        "\n"
      ],
      "metadata": {
        "id": "aiWaEPOuoHDS"
      },
      "id": "aiWaEPOuoHDS"
    },
    {
      "cell_type": "code",
      "execution_count": null,
      "id": "31448e09",
      "metadata": {
        "id": "31448e09",
        "colab": {
          "base_uri": "https://localhost:8080/"
        },
        "outputId": "be6b3409-e809-4cde-f794-58905db57231"
      },
      "outputs": [
        {
          "output_type": "stream",
          "name": "stdout",
          "text": [
            "Введите число: 10\n",
            "Введите число: ляляля\n",
            "Ошибка: это не число\n",
            "Введите число: 13\n",
            "Введите число: ооо\n",
            "Ошибка: это не число\n",
            "Введите число: 45\n",
            "Введите число: 78\n",
            "Введите число: 93\n",
            "Введите число: стоп\n",
            "Итоговый список: [10, 13, 45, 78, 93]\n",
            "Введено успешно: 5, введено ошибочно: 2\n"
          ]
        }
      ],
      "source": [
        "# Ваш код и демонстрация работы\n",
        "lst = []\n",
        "err = 0\n",
        "while True:\n",
        "    num = input('Введите число: ')\n",
        "    if num == 'стоп':\n",
        "         break\n",
        "    try:\n",
        "         lst.append(int(num))\n",
        "    except ValueError:\n",
        "         print('Ошибка: это не число')\n",
        "         err +=1\n",
        "print(f'Итоговый список: {lst}')\n",
        "print(f'Введено успешно: {len(lst)}, введено ошибочно: {err}')"
      ]
    },
    {
      "cell_type": "markdown",
      "metadata": {
        "id": "Yv-FNYTEp0vV"
      },
      "source": [
        "---"
      ],
      "id": "Yv-FNYTEp0vV"
    },
    {
      "cell_type": "markdown",
      "id": "5971f85d",
      "metadata": {
        "id": "5971f85d"
      },
      "source": [
        "### **Пункт №3**"
      ]
    },
    {
      "cell_type": "markdown",
      "id": "b1457074",
      "metadata": {
        "id": "b1457074"
      },
      "source": [
        "Создайте функцию `get_list_element(lst, index)`, которая безопасно извлекает элемент списка по индексу с использованием блоков `try`, `except`, `else` и `finally`.\n",
        "\n",
        "Функция должна:\n",
        "- Обрабатывать выход за пределы списка\n",
        "- Обрабатывать некорректный тип индекса\n",
        "- Выводить сообщение о попытке доступа в блоке `finally`\n",
        "\n",
        "**ОБЯЗАТЕЛЬНО:**\n",
        "- Выведите результаты для минимум 4 различных случаев (успешный доступ, выход за границы, отрицательный индекс, нечисловой индекс)\n",
        "- Покажите, что блок `finally` выполняется всегда\n",
        "\n",
        "```python\n",
        "# Пример использования:\n",
        "my_list = [1, 2, 3, 4, 5]\n",
        "get_list_element(my_list, 2)   # Вывод: \"Элемент: 3\", \"Попытка доступа завершена\"\n",
        "get_list_element(my_list, 10)  # Вывод: \"Индекс вне диапазона\", \"Попытка доступа завершена\"\n",
        "```"
      ]
    },
    {
      "cell_type": "code",
      "execution_count": null,
      "id": "1c067cf3",
      "metadata": {
        "id": "1c067cf3",
        "colab": {
          "base_uri": "https://localhost:8080/"
        },
        "outputId": "39647305-dacf-46c8-ec68-a7110f37e79d"
      },
      "outputs": [
        {
          "output_type": "stream",
          "name": "stdout",
          "text": [
            "Элемент: 3\n",
            "Попытка доступа завершена\n",
            "Индекс вне диапазона\n",
            "Попытка доступа завершена\n",
            "Элемент: 4\n",
            "Попытка доступа завершена\n",
            "Нечисловое значение\n",
            "Попытка доступа завершена\n"
          ]
        }
      ],
      "source": [
        "# Ваш код и демонстрация работы\n",
        "def get_list_element(lst, index):\n",
        "    try:\n",
        "        ans = lst[int(index)]\n",
        "    except IndexError:\n",
        "        print('Индекс вне диапазона')\n",
        "    except ValueError:\n",
        "        print('Нечисловое значение')\n",
        "    else:\n",
        "        print(f'Элемент: {ans}')\n",
        "    finally:\n",
        "        print('Попытка доступа завершена')\n",
        "my_list = [1, 2, 3, 4, 5]\n",
        "get_list_element(my_list, 2)\n",
        "get_list_element(my_list, 10)\n",
        "get_list_element(my_list, -2)\n",
        "get_list_element(my_list, 'tututu')"
      ]
    },
    {
      "cell_type": "markdown",
      "id": "b5bb39c7",
      "metadata": {
        "id": "b5bb39c7"
      },
      "source": [
        "---"
      ]
    },
    {
      "cell_type": "markdown",
      "id": "b0972d59",
      "metadata": {
        "id": "b0972d59"
      },
      "source": [
        "## **II. Работа с текстовыми файлами**"
      ]
    },
    {
      "cell_type": "markdown",
      "id": "35729435",
      "metadata": {
        "id": "35729435"
      },
      "source": [
        "### **Пункт №1. Запись в файл**"
      ]
    },
    {
      "cell_type": "markdown",
      "id": "3121365f",
      "metadata": {
        "id": "3121365f"
      },
      "source": [
        "Напишите программу, которая запрашивает у пользователя строку и записывает её в файл output.txt в режиме дозаписи.\n",
        "\n",
        "**ОБЯЗАТЕЛЬНО:**\n",
        "- Запросите у пользователя минимум 3 строки\n",
        "- Покажите содержимое файла после записи"
      ]
    },
    {
      "cell_type": "code",
      "execution_count": 5,
      "id": "cbce6c5f",
      "metadata": {
        "id": "cbce6c5f",
        "colab": {
          "base_uri": "https://localhost:8080/"
        },
        "outputId": "45eb323c-ed0a-42fd-8c51-bff35612540e"
      },
      "outputs": [
        {
          "output_type": "stream",
          "name": "stdout",
          "text": [
            "Введите строку: aaa\n",
            "Введите строку: oo\n",
            "Введите строку: tt\n",
            "aaa\n",
            "oo\n",
            "tt\n",
            "\n"
          ]
        }
      ],
      "source": [
        "# Ваш код и демонстрация работы\n",
        "with open('output.txt', 'a') as file:\n",
        "    for i in range(3):\n",
        "        text = input(f'Введите строку: ')\n",
        "        file.write(text + '\\n')\n",
        "print(open('output.txt').read())"
      ]
    },
    {
      "cell_type": "markdown",
      "id": "361b3d2b",
      "metadata": {
        "id": "361b3d2b"
      },
      "source": [
        "---"
      ]
    },
    {
      "cell_type": "markdown",
      "id": "cce864b4",
      "metadata": {
        "id": "cce864b4"
      },
      "source": [
        "### **Пункт №2. Чтение из файла**"
      ]
    },
    {
      "cell_type": "markdown",
      "id": "4fc83b82",
      "metadata": {
        "id": "4fc83b82"
      },
      "source": [
        "Напишите программу, которая открывает файл output.txt и выводит его содержимое на экран.\n",
        "\n",
        "**ОБЯЗАТЕЛЬНО:**\n",
        "- Создайте файл с минимум 5 строками текста\n",
        "- Покажите содержимое файла целиком\n",
        "- Обработайте случай отсутствующего файла"
      ]
    },
    {
      "cell_type": "code",
      "execution_count": 17,
      "id": "df27a986",
      "metadata": {
        "id": "df27a986",
        "colab": {
          "base_uri": "https://localhost:8080/"
        },
        "outputId": "c238b734-63d2-4464-dbbb-430bdd84da1c"
      },
      "outputs": [
        {
          "output_type": "stream",
          "name": "stdout",
          "text": [
            "Введите строку: yy\n",
            "Введите строку: tt\n",
            "Введите строку: iii\n",
            "Введите строку: c\n",
            "Введите строку: lk\n",
            "yy\n",
            "tt\n",
            "iii\n",
            "c\n",
            "lk\n",
            "\n"
          ]
        }
      ],
      "source": [
        "# Ваш код и демонстрация работы\n",
        "with open('output.txt', 'w') as file:\n",
        "    for i in range(5):\n",
        "        text = input(f'Введите строку: ')\n",
        "        file.write(text + '\\n')\n",
        "try:\n",
        "    print(open('output.txt').read())\n",
        "except FileNotFoundError:\n",
        "    print('Файл не найден')\n"
      ]
    },
    {
      "cell_type": "markdown",
      "id": "2be296a2",
      "metadata": {
        "id": "2be296a2"
      },
      "source": [
        "---"
      ]
    },
    {
      "cell_type": "markdown",
      "id": "045696ba",
      "metadata": {
        "id": "045696ba"
      },
      "source": [
        "### **Пункт №3. Подсчет строк в файле**"
      ]
    },
    {
      "cell_type": "markdown",
      "id": "570ac3e9",
      "metadata": {
        "id": "570ac3e9"
      },
      "source": [
        "Напишите программу, которая открывает файл output.txt и подсчитывает количество строк в нём.\n",
        "\n",
        "**ОБЯЗАТЕЛЬНО:**\n",
        "- Создайте тестовый файл с известным количеством строк (минимум 10)\n",
        "- Покажите первые 3 строки файла\n",
        "- Выведите общее количество строк\n",
        "- Выведите количество непустых строк"
      ]
    },
    {
      "cell_type": "code",
      "execution_count": 27,
      "id": "84aa205a",
      "metadata": {
        "id": "84aa205a",
        "colab": {
          "base_uri": "https://localhost:8080/"
        },
        "outputId": "3db81386-06b2-44cb-8c37-6d41369c76fe"
      },
      "outputs": [
        {
          "output_type": "stream",
          "name": "stdout",
          "text": [
            "Первые 3 строки файла:\n",
            "первая строчка\n",
            "вторая строчка\n",
            "третья строчка\n",
            "\n",
            "Общее количество строк: 10\n",
            "Количество непустых строк: 8\n"
          ]
        }
      ],
      "source": [
        "# Ваш код и демонстрация работы\n",
        "with open('output.txt', 'w') as file:\n",
        "    file.writelines(['первая строчка\\n',\n",
        "    'вторая строчка\\n',\n",
        "    'третья строчка\\n',\n",
        "    '\\n',\n",
        "    'пятая строчка\\n',\n",
        "    'шестая строчка\\n',\n",
        "    'седьмая строчка\\n',\n",
        "    '\\n',\n",
        "    'девятая строчка\\n',\n",
        "    'десятая строчка\\n'])\n",
        "with open('output.txt', 'r') as file:\n",
        "    lines = file.readlines()\n",
        "print(\"Первые 3 строки файла:\")\n",
        "for i in range(3):\n",
        "    if i < len(lines):\n",
        "        print(lines[i].strip('\\n'))\n",
        "kolvo_lines = len(lines)\n",
        "print(f\"\\nОбщее количество строк: {kolvo_lines}\")\n",
        "pust_lines = len([line for line in lines if line.strip()!= ''])\n",
        "print(f\"Количество непустых строк: {pust_lines}\")"
      ]
    },
    {
      "cell_type": "markdown",
      "id": "94c6dcb0",
      "metadata": {
        "id": "94c6dcb0"
      },
      "source": [
        "---"
      ]
    },
    {
      "cell_type": "markdown",
      "id": "56f2a74e",
      "metadata": {
        "id": "56f2a74e"
      },
      "source": [
        "### **Пункт №4. Копирование содержимого файла**"
      ]
    },
    {
      "cell_type": "markdown",
      "id": "ed736046",
      "metadata": {
        "id": "ed736046"
      },
      "source": [
        "Напишите программу, которая копирует содержимое файла input.txt в файл output.txt.\n",
        "\n",
        "**ОБЯЗАТЕЛЬНО:**\n",
        "- Создайте исходный файл с тестовым содержимым (минимум 5 строк)\n",
        "- Покажите содержимое исходного файла\n",
        "- Выполните копирование\n",
        "- Покажите содержимое скопированного файла\n",
        "- Обработайте случай отсутствия исходного файла"
      ]
    },
    {
      "cell_type": "code",
      "execution_count": 36,
      "id": "31bd8a06",
      "metadata": {
        "id": "31bd8a06",
        "colab": {
          "base_uri": "https://localhost:8080/"
        },
        "outputId": "0280901f-2030-40f3-dc25-abb6f942bf63"
      },
      "outputs": [
        {
          "output_type": "stream",
          "name": "stdout",
          "text": [
            "Содержимое input.txt:\n",
            "первая строчка\n",
            "вторая строчка\n",
            "третья строчка\n",
            "четвётая строчка\n",
            "пятая строчка\n",
            "\n",
            "Содержимое output.txt:\n",
            "первая строчка\n",
            "вторая строчка\n",
            "третья строчка\n",
            "четвётая строчка\n",
            "пятая строчка\n",
            "\n"
          ]
        }
      ],
      "source": [
        "# Ваш код и демонстрация работы\n",
        "try:\n",
        "    with open('input.txt','w') as file:\n",
        "        file.writelines(['первая строчка\\n',\n",
        "                         'вторая строчка\\n',\n",
        "                         'третья строчка\\n',\n",
        "                         'четвётая строчка\\n',\n",
        "                         'пятая строчка\\n'])\n",
        "    with open('input.txt','r') as file:\n",
        "        data = file.read()\n",
        "        print(\"Содержимое input.txt:\")\n",
        "        print(data)\n",
        "    with open('output.txt', 'w') as file2:\n",
        "        file2.writelines(data)\n",
        "    with open('output.txt', 'r') as file2:\n",
        "        print(\"Содержимое output.txt:\")\n",
        "        print(file2.read())\n",
        "except FileNotFoundError:\n",
        "    print('Файл не найден')"
      ]
    },
    {
      "cell_type": "markdown",
      "id": "2f7c8ee5",
      "metadata": {
        "id": "2f7c8ee5"
      },
      "source": [
        "---"
      ]
    },
    {
      "cell_type": "markdown",
      "id": "70ee398b",
      "metadata": {
        "id": "70ee398b"
      },
      "source": [
        "### **Пункт №5. Поиск слова в файле**"
      ]
    },
    {
      "cell_type": "markdown",
      "id": "c67f8987",
      "metadata": {
        "id": "c67f8987"
      },
      "source": [
        "Напишите программу, которая открывает файл output.txt и проверяет, содержится ли в нём слово, введённое пользователем.\n",
        "\n",
        "**ОБЯЗАТЕЛЬНО:**\n",
        "- Создайте файл с минимум 10 строками текста\n",
        "- Покажите содержимое файла\n",
        "- Протестируйте поиск минимум 5 различных слов\n",
        "- Выведите номера строк, где найдено слово\n",
        "- Покажите количество вхождений слова"
      ]
    },
    {
      "cell_type": "code",
      "execution_count": 53,
      "id": "d961bbf3",
      "metadata": {
        "id": "d961bbf3",
        "colab": {
          "base_uri": "https://localhost:8080/"
        },
        "outputId": "e119aa53-3f44-4a26-d03a-f94f6ed33dbc"
      },
      "outputs": [
        {
          "output_type": "stream",
          "name": "stdout",
          "text": [
            "Содержимое output.txt:\n",
            "первая строчка\n",
            "вторая строчка\n",
            "третья строчка\n",
            "четвётая строчка\n",
            "пятая строчка\n",
            "шестая строчка\n",
            "седьмая строчка\n",
            "восьмая строчка\n",
            "девятая строчка\n",
            "десятая строчка\n",
            "\n",
            "\n",
            "Поиск слова 'первая':\n",
            "Найдено в строках: [1]\n",
            "Количество вхождений: 1\n",
            "\n",
            "Поиск слова 'строчка':\n",
            "Найдено в строках: [1, 2, 3, 4, 5, 6, 7, 8, 9, 10]\n",
            "Количество вхождений: 10\n",
            "\n",
            "Поиск слова 'слово':\n",
            "Слово не найдено в файле.\n",
            "\n",
            "Поиск слова 'девятая':\n",
            "Найдено в строках: [9]\n",
            "Количество вхождений: 1\n",
            "\n",
            "Поиск слова 'седьмая':\n",
            "Найдено в строках: [7]\n",
            "Количество вхождений: 1\n"
          ]
        }
      ],
      "source": [
        "# Ваш код и демонстрация работы\n",
        "with open('input.txt','w') as file:\n",
        "  file.writelines(['первая строчка\\n',\n",
        "  'вторая строчка\\n',\n",
        "  'третья строчка\\n',\n",
        "  'четвётая строчка\\n',\n",
        "  'пятая строчка\\n',\n",
        "  'шестая строчка\\n',\n",
        "  'седьмая строчка\\n',\n",
        "  'восьмая строчка\\n',\n",
        "  'девятая строчка\\n',\n",
        "  'десятая строчка\\n'])\n",
        "with open('input.txt', 'r') as src:\n",
        "  with open('output.txt','w') as dst:\n",
        "    dst.write(src.read())\n",
        "with open('output.txt', 'r') as file:\n",
        "    print(\"Содержимое output.txt:\")\n",
        "    print(file.read())\n",
        "\n",
        "iskwords = ['первая', 'строчка', 'слово', 'девятая', 'седьмая']\n",
        "\n",
        "for word in iskwords:\n",
        "  print(f\"\\nПоиск слова '{word}':\")\n",
        "  found_lines = []\n",
        "  count = 0\n",
        "\n",
        "  with open('output.txt', 'r') as file:\n",
        "    lines = file.readlines()\n",
        "\n",
        "  for line_num, line in enumerate(lines, 1):\n",
        "    words_line = line.lower().strip().replace('.', '').replace(',', '').split()\n",
        "    word_count = words_line.count(word.lower())\n",
        "    if word_count > 0:\n",
        "\n",
        "      found_lines.append(line_num)\n",
        "      count += word_count\n",
        "\n",
        "  if found_lines:\n",
        "    print(f\"Найдено в строках: {found_lines}\")\n",
        "    print(f\"Количество вхождений: {count}\")\n",
        "  else:\n",
        "    print(\"Слово не найдено в файле.\")"
      ]
    },
    {
      "cell_type": "markdown",
      "id": "8d69c77a",
      "metadata": {
        "id": "8d69c77a"
      },
      "source": [
        "---"
      ]
    },
    {
      "cell_type": "markdown",
      "id": "0079e067",
      "metadata": {
        "id": "0079e067"
      },
      "source": [
        "### **Пункт №6. Чтение файла с обработкой FileNotFoundError**"
      ]
    },
    {
      "cell_type": "markdown",
      "id": "c3d27312",
      "metadata": {
        "id": "c3d27312"
      },
      "source": [
        "Напишите программу, которая запрашивает у пользователя имя файла и пытается открыть его. Если файла не существует, перехватите FileNotFoundError и выведите сообщение «Файл не найден!».\n",
        "\n",
        "**ОБЯЗАТЕЛЬНО:**\n",
        "- Протестируйте с существующим файлом\n",
        "- Протестируйте с несуществующим файлом\n",
        "- Покажите содержимое существующего файла"
      ]
    },
    {
      "cell_type": "code",
      "execution_count": 55,
      "id": "0c262bd2",
      "metadata": {
        "id": "0c262bd2",
        "colab": {
          "base_uri": "https://localhost:8080/"
        },
        "outputId": "9153ed86-ce06-4aa3-bc0c-d2c8c1bfe587"
      },
      "outputs": [
        {
          "output_type": "stream",
          "name": "stdout",
          "text": [
            "Введите имя файла: text.txt\n",
            "Файл не найден!\n"
          ]
        }
      ],
      "source": [
        "# Ваш код и демонстрация работы\n",
        "fname = input('Введите имя файла: ')\n",
        "try:\n",
        "    print(open(fname).read())\n",
        "except FileNotFoundError:\n",
        "    print('Файл не найден!')"
      ]
    },
    {
      "cell_type": "markdown",
      "id": "c3258b46",
      "metadata": {
        "id": "c3258b46"
      },
      "source": [
        "---"
      ]
    },
    {
      "cell_type": "markdown",
      "id": "02e0767b",
      "metadata": {
        "id": "02e0767b"
      },
      "source": [
        "### **Пункт №7. Подсчет статистики файла**"
      ]
    },
    {
      "cell_type": "markdown",
      "id": "1c33b711",
      "metadata": {
        "id": "1c33b711"
      },
      "source": [
        "Напишите функцию `file_statistics(filename)`, которая читает текстовый файл и возвращает словарь со статистикой:\n",
        "- Количество строк\n",
        "- Количество слов\n",
        "- Количество символов (с пробелами и без)\n",
        "\n",
        "**ОБЯЗАТЕЛЬНО:**\n",
        "- Создайте тестовый файл с минимум 5 строками текста\n",
        "- Выведите содержимое файла ДО обработки\n",
        "- Выведите полученную статистику\n",
        "- Обработайте случай несуществующего файла\n",
        "\n",
        "```python\n",
        "# Создание тестового файла\n",
        "test_content = \"\"\"Первая строка текста\n",
        "Вторая строка с большим количеством слов\n",
        "Третья строка\n",
        "Четвертая строка для теста\n",
        "Пятая и последняя строка\"\"\"\n",
        "\n",
        "# Сохраните в файл и продемонстрируйте работу\n",
        "```"
      ]
    },
    {
      "cell_type": "code",
      "execution_count": 56,
      "id": "43bfd6b8",
      "metadata": {
        "id": "43bfd6b8",
        "colab": {
          "base_uri": "https://localhost:8080/"
        },
        "outputId": "d4c086c1-f6f2-49be-a256-da3178d770f0"
      },
      "outputs": [
        {
          "output_type": "stream",
          "name": "stdout",
          "text": [
            "первая строчка\n",
            "вторая вот такая интересная длинная строчка\n",
            "третья строчка\n",
            "четвёртая строчка\n",
            "пятая последняя строчка\n",
            "Строк: 5\n",
            "Слов: 15\n",
            "Символов (с пробелами): 115\n",
            "Символов (без пробелов): 105\n"
          ]
        }
      ],
      "source": [
        "# Ваш код и демонстрация работы\n",
        "def file_statistics(fname):\n",
        "    try:\n",
        "        with open(fname, 'r') as file:\n",
        "            text = file.read()\n",
        "\n",
        "        lines = text.split('\\n')\n",
        "        words = text.split()\n",
        "\n",
        "        return {\n",
        "            'lines': len(lines),\n",
        "            'words': len(words),\n",
        "            'chars_with_spaces': len(text),\n",
        "            'chars_without_spaces': len(text.replace(' ', ''))\n",
        "        }\n",
        "\n",
        "    except FileNotFoundError:\n",
        "        print(f\"Файл {fname} не найден\")\n",
        "        return None\n",
        "\n",
        "with open('test.txt', 'w') as file:\n",
        "    file.writelines(['первая строчка\\n',\n",
        "                     'вторая вот такая интересная длинная строчка\\n',\n",
        "                     'третья строчка\\n',\n",
        "                     'четвёртая строчка\\n',\n",
        "                     'пятая последняя строчка'])\n",
        "\n",
        "with open('test.txt') as file:\n",
        "    print(file.read())\n",
        "\n",
        "stats = file_statistics('test.txt')\n",
        "\n",
        "if stats:\n",
        "    print(f\"Строк: {stats['lines']}\")\n",
        "    print(f\"Слов: {stats['words']}\")\n",
        "    print(f\"Символов (с пробелами): {stats['chars_with_spaces']}\")\n",
        "    print(f\"Символов (без пробелов): {stats['chars_without_spaces']}\")\n"
      ]
    },
    {
      "cell_type": "markdown",
      "id": "903281dd",
      "metadata": {
        "id": "903281dd"
      },
      "source": [
        "---"
      ]
    },
    {
      "cell_type": "markdown",
      "id": "ad8b4ae4",
      "metadata": {
        "id": "ad8b4ae4"
      },
      "source": [
        "### **Пункт №8. Поиск и замена в файле**"
      ]
    },
    {
      "cell_type": "markdown",
      "id": "e5230d0a",
      "metadata": {
        "id": "e5230d0a"
      },
      "source": [
        "Напишите функцию `replace_in_file(filename, old_text, new_text)`, которая заменяет все вхождения `old_text` на `new_text` в файле и сохраняет результат в новый файл с префиксом \"modified_\".\n",
        "\n",
        "**ОБЯЗАТЕЛЬНО:**\n",
        "- Создайте файл с текстом, содержащим минимум 3 вхождения заменяемого слова\n",
        "- Выведите содержимое файла ДО замены\n",
        "- Выполните замену\n",
        "- Выведите содержимое файла ПОСЛЕ замены\n",
        "- Покажите количество произведенных замен"
      ]
    },
    {
      "cell_type": "code",
      "execution_count": 61,
      "id": "64a05e35",
      "metadata": {
        "id": "64a05e35",
        "colab": {
          "base_uri": "https://localhost:8080/"
        },
        "outputId": "7cf7b3b6-9b65-4cdf-af93-b2961ef6d18c"
      },
      "outputs": [
        {
          "output_type": "stream",
          "name": "stdout",
          "text": [
            "До замены:\n",
            "первая строчка\n",
            "вторая строчка\n",
            "третья строчка\n",
            "четвётая строчка\n",
            "пятая строчка\n",
            "шестая строчка\n",
            "\n",
            "Количество замен: 1\n",
            "После замены:\n",
            "крутая строчка\n",
            "вторая строчка\n",
            "третья строчка\n",
            "четвётая строчка\n",
            "пятая строчка\n",
            "шестая строчка\n",
            "\n"
          ]
        }
      ],
      "source": [
        "# Ваш код и демонстрация работы\n",
        "def replace_in_file(filename, old_text, new_text):\n",
        "  try:\n",
        "      with open(filename) as file:\n",
        "          content = file.read()\n",
        "      cnt = content.count(old_text)\n",
        "      new_content = content.replace(old_text, new_text)\n",
        "\n",
        "\n",
        "      new_filename = f\"modified_{filename}\"\n",
        "      with open(new_filename, 'w') as file:\n",
        "          file.write(new_content)\n",
        "\n",
        "      return cnt, new_filename\n",
        "\n",
        "  except FileNotFoundError:\n",
        "      print(f\"Файл {filename} не найден\")\n",
        "      return 0, None\n",
        "\n",
        "with open('stroki.txt','w') as file:\n",
        "  file.writelines(['первая строчка\\n',\n",
        "  'вторая строчка\\n',\n",
        "  'третья строчка\\n',\n",
        "  'четвётая строчка\\n',\n",
        "  'пятая строчка\\n',\n",
        "  'шестая строчка\\n'])\n",
        "\n",
        "print('До замены:')\n",
        "with open('stroki.txt', 'r') as file:\n",
        "  print(file.read())\n",
        "\n",
        "cnt, new_file = replace_in_file('stroki.txt', 'первая', 'крутая')\n",
        "\n",
        "print(f'Количество замен: {cnt}')\n",
        "print('После замены:')\n",
        "with open(new_file, 'r') as file:\n",
        "    print(file.read())\n"
      ]
    },
    {
      "cell_type": "markdown",
      "id": "f77b0568",
      "metadata": {
        "id": "f77b0568"
      },
      "source": [
        "---"
      ]
    },
    {
      "cell_type": "markdown",
      "id": "79a081b1",
      "metadata": {
        "id": "79a081b1"
      },
      "source": [
        "### **Пункт №9. Объединение файлов**"
      ]
    },
    {
      "cell_type": "markdown",
      "id": "599cee3c",
      "metadata": {
        "id": "599cee3c"
      },
      "source": [
        "Создайте функцию `merge_files(file_list, output_file)`, которая объединяет содержимое нескольких текстовых файлов в один, добавляя после каждого разделитель.\n",
        "\n",
        "**ОБЯЗАТЕЛЬНО:**\n",
        "- Создайте минимум 3 файла с разным содержимым\n",
        "- Выведите содержимое КАЖДОГО исходного файла\n",
        "- Выполните объединение\n",
        "- Выведите содержимое результирующего файла"
      ]
    },
    {
      "cell_type": "code",
      "execution_count": 63,
      "id": "581b5868",
      "metadata": {
        "id": "581b5868",
        "colab": {
          "base_uri": "https://localhost:8080/"
        },
        "outputId": "02f1ceb6-ef06-4622-b3b6-2a7d00e6c27f"
      },
      "outputs": [
        {
          "output_type": "stream",
          "name": "stdout",
          "text": [
            "1.txt:\n",
            "Файл 1\n",
            "Текст 1\n",
            "\n",
            "2.txt:\n",
            "Файл 2\n",
            "Текст 2\n",
            "\n",
            "3.txt:\n",
            "Файл 3\n",
            "Текст 3\n",
            "\n",
            "Объединенный файл:\n",
            "Файл 1\n",
            "Текст 1\n",
            "*******\n",
            "Файл 2\n",
            "Текст 2\n",
            "*******\n",
            "Файл 3\n",
            "Текст 3\n",
            "*******\n",
            "\n"
          ]
        }
      ],
      "source": [
        "# Ваш код и демонстрация работы\n",
        "def merge_files(file_list, output_file):\n",
        "    with open(output_file, 'w') as out:\n",
        "        for file in file_list:\n",
        "            with open(file, 'r') as f:\n",
        "                out.write(f.read())\n",
        "            out.write(\"\\n*******\\n\")\n",
        "\n",
        "with open('1.txt', 'w') as f:\n",
        "    f.write(\"Файл 1\\nТекст 1\")\n",
        "\n",
        "with open('2.txt', 'w') as f:\n",
        "    f.write(\"Файл 2\\nТекст 2\")\n",
        "\n",
        "with open('3.txt', 'w') as f:\n",
        "    f.write(\"Файл 3\\nТекст 3\")\n",
        "\n",
        "files = ['1.txt', '2.txt', '3.txt']\n",
        "\n",
        "for file in files:\n",
        "    print(f\"{file}:\")\n",
        "    with open(file, 'r') as f:\n",
        "        print(f.read())\n",
        "    print()\n",
        "\n",
        "\n",
        "merge_files(files, 'result.txt')\n",
        "\n",
        "print(\"Объединенный файл:\")\n",
        "with open('result.txt', 'r') as f:\n",
        "    print(f.read())"
      ]
    },
    {
      "cell_type": "markdown",
      "id": "eb866091",
      "metadata": {
        "id": "eb866091"
      },
      "source": [
        "---"
      ]
    }
  ],
  "metadata": {
    "colab": {
      "provenance": [],
      "include_colab_link": true
    },
    "language_info": {
      "name": "python"
    },
    "kernelspec": {
      "name": "python3",
      "display_name": "Python 3"
    }
  },
  "nbformat": 4,
  "nbformat_minor": 5
}