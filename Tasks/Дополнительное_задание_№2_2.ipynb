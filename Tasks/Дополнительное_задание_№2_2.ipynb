{
  "nbformat": 4,
  "nbformat_minor": 0,
  "metadata": {
    "colab": {
      "provenance": [],
      "include_colab_link": true
    },
    "kernelspec": {
      "name": "python3",
      "display_name": "Python 3"
    },
    "language_info": {
      "name": "python"
    }
  },
  "cells": [
    {
      "cell_type": "markdown",
      "metadata": {
        "id": "view-in-github",
        "colab_type": "text"
      },
      "source": [
        "<a href=\"https://colab.research.google.com/github/benasvilit-lab/Univercity/blob/main/Tasks/%D0%94%D0%BE%D0%BF%D0%BE%D0%BB%D0%BD%D0%B8%D1%82%D0%B5%D0%BB%D1%8C%D0%BD%D0%BE%D0%B5_%D0%B7%D0%B0%D0%B4%D0%B0%D0%BD%D0%B8%D0%B5_%E2%84%962_2.ipynb\" target=\"_parent\"><img src=\"https://colab.research.google.com/assets/colab-badge.svg\" alt=\"Open In Colab\"/></a>"
      ]
    },
    {
      "cell_type": "markdown",
      "source": [
        "# **Дополнительное задание №2.2. Замыкания. Декораторы. Итераторы. Генераторы**"
      ],
      "metadata": {
        "id": "AFKOdzjAKWYc"
      }
    },
    {
      "cell_type": "markdown",
      "source": [
        "**БАЗА:**\n",
        "\n",
        "- **Замыкания** позволяют создавать функции с сохраняющимся состоянием. Это полезно для создания фабричных функций и функций с настраиваемым поведением.\n",
        "- **Декораторы** позволяют модифицировать или расширять поведение функций без изменения их исходного кода."
      ],
      "metadata": {
        "id": "nBwTqfsSyaGg"
      }
    },
    {
      "cell_type": "markdown",
      "source": [
        "---"
      ],
      "metadata": {
        "id": "2VnR8e3twGfD"
      }
    },
    {
      "cell_type": "markdown",
      "source": [
        "## **I. Замыкания и декораторы**"
      ],
      "metadata": {
        "id": "_ZPLUks08b1-"
      }
    },
    {
      "cell_type": "markdown",
      "metadata": {
        "id": "eVsLMeozyshu"
      },
      "source": [
        "### **Пункт №1**\n",
        "\n",
        "Напишите две функции создания списка из чётных чисел от 0 до N (N – аргумент функции): \\([0, 2, 4, ..., N]\\).\n",
        "\n",
        "- **Первая функция** должна использовать метод `append` для добавления элементов в список.\n",
        "- **Вторая функция** должна использовать **генератор списков** (list comprehensions) для создания списка.\n",
        "\n",
        "После этого, через **декоратор**, определите время работы этих функций."
      ]
    },
    {
      "cell_type": "code",
      "source": [
        "# Ваш код\n",
        "import time\n",
        "def time_chek(func):\n",
        "  def wrapper(n):\n",
        "    start_time=time.time()\n",
        "    func(n)\n",
        "    print(time.time()-start_time)\n",
        "  return wrapper\n",
        "@time_chek\n",
        "def func1(n):\n",
        "  chet=[]\n",
        "  for i in range(0,n+1,2):\n",
        "    chet.append(i)\n",
        "  print(chet)\n",
        "@time_chek\n",
        "def func2(n):\n",
        "  chet=[i for i in range(0,n+1,2)]\n",
        "  print(chet)\n",
        "func1(1000)\n",
        "func2(1000)"
      ],
      "metadata": {
        "id": "04AwDHUyZe6F",
        "colab": {
          "base_uri": "https://localhost:8080/"
        },
        "outputId": "33c86066-84e3-4727-d5f6-8548b942d05c"
      },
      "execution_count": 6,
      "outputs": [
        {
          "output_type": "stream",
          "name": "stdout",
          "text": [
            "[0, 2, 4, 6, 8, 10, 12, 14, 16, 18, 20, 22, 24, 26, 28, 30, 32, 34, 36, 38, 40, 42, 44, 46, 48, 50, 52, 54, 56, 58, 60, 62, 64, 66, 68, 70, 72, 74, 76, 78, 80, 82, 84, 86, 88, 90, 92, 94, 96, 98, 100, 102, 104, 106, 108, 110, 112, 114, 116, 118, 120, 122, 124, 126, 128, 130, 132, 134, 136, 138, 140, 142, 144, 146, 148, 150, 152, 154, 156, 158, 160, 162, 164, 166, 168, 170, 172, 174, 176, 178, 180, 182, 184, 186, 188, 190, 192, 194, 196, 198, 200, 202, 204, 206, 208, 210, 212, 214, 216, 218, 220, 222, 224, 226, 228, 230, 232, 234, 236, 238, 240, 242, 244, 246, 248, 250, 252, 254, 256, 258, 260, 262, 264, 266, 268, 270, 272, 274, 276, 278, 280, 282, 284, 286, 288, 290, 292, 294, 296, 298, 300, 302, 304, 306, 308, 310, 312, 314, 316, 318, 320, 322, 324, 326, 328, 330, 332, 334, 336, 338, 340, 342, 344, 346, 348, 350, 352, 354, 356, 358, 360, 362, 364, 366, 368, 370, 372, 374, 376, 378, 380, 382, 384, 386, 388, 390, 392, 394, 396, 398, 400, 402, 404, 406, 408, 410, 412, 414, 416, 418, 420, 422, 424, 426, 428, 430, 432, 434, 436, 438, 440, 442, 444, 446, 448, 450, 452, 454, 456, 458, 460, 462, 464, 466, 468, 470, 472, 474, 476, 478, 480, 482, 484, 486, 488, 490, 492, 494, 496, 498, 500, 502, 504, 506, 508, 510, 512, 514, 516, 518, 520, 522, 524, 526, 528, 530, 532, 534, 536, 538, 540, 542, 544, 546, 548, 550, 552, 554, 556, 558, 560, 562, 564, 566, 568, 570, 572, 574, 576, 578, 580, 582, 584, 586, 588, 590, 592, 594, 596, 598, 600, 602, 604, 606, 608, 610, 612, 614, 616, 618, 620, 622, 624, 626, 628, 630, 632, 634, 636, 638, 640, 642, 644, 646, 648, 650, 652, 654, 656, 658, 660, 662, 664, 666, 668, 670, 672, 674, 676, 678, 680, 682, 684, 686, 688, 690, 692, 694, 696, 698, 700, 702, 704, 706, 708, 710, 712, 714, 716, 718, 720, 722, 724, 726, 728, 730, 732, 734, 736, 738, 740, 742, 744, 746, 748, 750, 752, 754, 756, 758, 760, 762, 764, 766, 768, 770, 772, 774, 776, 778, 780, 782, 784, 786, 788, 790, 792, 794, 796, 798, 800, 802, 804, 806, 808, 810, 812, 814, 816, 818, 820, 822, 824, 826, 828, 830, 832, 834, 836, 838, 840, 842, 844, 846, 848, 850, 852, 854, 856, 858, 860, 862, 864, 866, 868, 870, 872, 874, 876, 878, 880, 882, 884, 886, 888, 890, 892, 894, 896, 898, 900, 902, 904, 906, 908, 910, 912, 914, 916, 918, 920, 922, 924, 926, 928, 930, 932, 934, 936, 938, 940, 942, 944, 946, 948, 950, 952, 954, 956, 958, 960, 962, 964, 966, 968, 970, 972, 974, 976, 978, 980, 982, 984, 986, 988, 990, 992, 994, 996, 998, 1000]\n",
            "0.0001361370086669922\n",
            "[0, 2, 4, 6, 8, 10, 12, 14, 16, 18, 20, 22, 24, 26, 28, 30, 32, 34, 36, 38, 40, 42, 44, 46, 48, 50, 52, 54, 56, 58, 60, 62, 64, 66, 68, 70, 72, 74, 76, 78, 80, 82, 84, 86, 88, 90, 92, 94, 96, 98, 100, 102, 104, 106, 108, 110, 112, 114, 116, 118, 120, 122, 124, 126, 128, 130, 132, 134, 136, 138, 140, 142, 144, 146, 148, 150, 152, 154, 156, 158, 160, 162, 164, 166, 168, 170, 172, 174, 176, 178, 180, 182, 184, 186, 188, 190, 192, 194, 196, 198, 200, 202, 204, 206, 208, 210, 212, 214, 216, 218, 220, 222, 224, 226, 228, 230, 232, 234, 236, 238, 240, 242, 244, 246, 248, 250, 252, 254, 256, 258, 260, 262, 264, 266, 268, 270, 272, 274, 276, 278, 280, 282, 284, 286, 288, 290, 292, 294, 296, 298, 300, 302, 304, 306, 308, 310, 312, 314, 316, 318, 320, 322, 324, 326, 328, 330, 332, 334, 336, 338, 340, 342, 344, 346, 348, 350, 352, 354, 356, 358, 360, 362, 364, 366, 368, 370, 372, 374, 376, 378, 380, 382, 384, 386, 388, 390, 392, 394, 396, 398, 400, 402, 404, 406, 408, 410, 412, 414, 416, 418, 420, 422, 424, 426, 428, 430, 432, 434, 436, 438, 440, 442, 444, 446, 448, 450, 452, 454, 456, 458, 460, 462, 464, 466, 468, 470, 472, 474, 476, 478, 480, 482, 484, 486, 488, 490, 492, 494, 496, 498, 500, 502, 504, 506, 508, 510, 512, 514, 516, 518, 520, 522, 524, 526, 528, 530, 532, 534, 536, 538, 540, 542, 544, 546, 548, 550, 552, 554, 556, 558, 560, 562, 564, 566, 568, 570, 572, 574, 576, 578, 580, 582, 584, 586, 588, 590, 592, 594, 596, 598, 600, 602, 604, 606, 608, 610, 612, 614, 616, 618, 620, 622, 624, 626, 628, 630, 632, 634, 636, 638, 640, 642, 644, 646, 648, 650, 652, 654, 656, 658, 660, 662, 664, 666, 668, 670, 672, 674, 676, 678, 680, 682, 684, 686, 688, 690, 692, 694, 696, 698, 700, 702, 704, 706, 708, 710, 712, 714, 716, 718, 720, 722, 724, 726, 728, 730, 732, 734, 736, 738, 740, 742, 744, 746, 748, 750, 752, 754, 756, 758, 760, 762, 764, 766, 768, 770, 772, 774, 776, 778, 780, 782, 784, 786, 788, 790, 792, 794, 796, 798, 800, 802, 804, 806, 808, 810, 812, 814, 816, 818, 820, 822, 824, 826, 828, 830, 832, 834, 836, 838, 840, 842, 844, 846, 848, 850, 852, 854, 856, 858, 860, 862, 864, 866, 868, 870, 872, 874, 876, 878, 880, 882, 884, 886, 888, 890, 892, 894, 896, 898, 900, 902, 904, 906, 908, 910, 912, 914, 916, 918, 920, 922, 924, 926, 928, 930, 932, 934, 936, 938, 940, 942, 944, 946, 948, 950, 952, 954, 956, 958, 960, 962, 964, 966, 968, 970, 972, 974, 976, 978, 980, 982, 984, 986, 988, 990, 992, 994, 996, 998, 1000]\n",
            "8.082389831542969e-05\n"
          ]
        }
      ]
    },
    {
      "cell_type": "markdown",
      "source": [
        "---"
      ],
      "metadata": {
        "id": "_0Jy4QhEwGDd"
      }
    },
    {
      "cell_type": "markdown",
      "source": [
        "### **Пункт №2**\n",
        "\n",
        "Напишите **декоратор** для кэширования результатов работы функции, вычисляющей значение n-го числа [**ряда Фибоначчи**](https://ru.wikipedia.org/wiki/Числа_Фибоначчи).\n",
        "\n",
        "То есть, при повторном вызове функции через декоратор уже имеющийся результат должен браться из кэша, а не вычисляться заново.\n",
        "\n",
        "**Например:**\n",
        "\n",
        "- При значении параметра `n = 5`, должна кэшироваться последовательность \\([0, 1, 1, 2, 3, 5]\\).\n",
        "- Вызывая после этого целевую функцию через декоратор ещё раз с `n = 3`, результат \\([0, 1, 1, 2]\\) должен браться из кэша.\n",
        "- Если последующее значение `n` больше предыдущего, например `n = 10`, вычисление должно продолжаться, начиная с закэшированной последовательности.\n",
        "\n",
        "*Подсказка: используйте **замыкание** для хранения кэша внутри декоратора.*\n"
      ],
      "metadata": {
        "id": "DfDtOSmDl7ic"
      }
    },
    {
      "cell_type": "code",
      "source": [
        "# Ваш код\n",
        "def fib_cache(func):\n",
        "    cache = [0, 1]\n",
        "    max_n = 1\n",
        "    def wrapper(n):\n",
        "        nonlocal cache, max_n\n",
        "        if n <= max_n:\n",
        "            return cache[:n + 1]\n",
        "        for i in range(max_n + 1, n + 1):\n",
        "            cache.append(cache[-1] + cache[-2])\n",
        "        max_n = n\n",
        "        return cache[:n + 1]\n",
        "    return wrapper\n",
        "@fib_cache\n",
        "def fib2(n):\n",
        "    seq = [0, 1]\n",
        "    for i in range(2, n + 1):\n",
        "        seq.append(seq[-1] + seq[-2])\n",
        "    return seq[:n + 1]\n",
        "n = fib2(10)\n",
        "n2 = fib2(5)\n",
        "print(n2)"
      ],
      "metadata": {
        "id": "CtbbsIBsZfHB",
        "colab": {
          "base_uri": "https://localhost:8080/"
        },
        "outputId": "08542900-34f8-4f7b-eeb8-130635e4ef68"
      },
      "execution_count": 4,
      "outputs": [
        {
          "output_type": "stream",
          "name": "stdout",
          "text": [
            "[0, 1, 1, 2, 3, 5]\n"
          ]
        }
      ]
    },
    {
      "cell_type": "markdown",
      "source": [
        "---"
      ],
      "metadata": {
        "id": "CIiq8lr7wFkS"
      }
    },
    {
      "cell_type": "markdown",
      "source": [
        "### **Пункт №3**\n",
        "\n",
        "Примените к функции из задания №2 сразу **два декоратора**:\n",
        "\n",
        "1. **Декоратор**, определяющий время выполнения функции.\n",
        "2. **Кэширующий декоратор** (из задания №2).\n",
        "\n",
        "Сравните время работы функции с использованием кэширования и без него.\n"
      ],
      "metadata": {
        "id": "zY5zVHuifDve"
      }
    },
    {
      "cell_type": "code",
      "source": [
        "# Ваш код\n",
        "import time\n",
        "def time_check(func):\n",
        "    def wrapper(n):\n",
        "        start_time = time.time()\n",
        "        func(n)\n",
        "        print(time.time()-start_time)\n",
        "    return wrapper\n",
        "@time_check\n",
        "@fib_cache\n",
        "def fib2(n):\n",
        "    seq = [0, 1]\n",
        "    for i in range(2, n + 1):\n",
        "        seq.append(seq[-1] + seq[-2])\n",
        "    return seq[:n + 1]\n",
        "\n",
        "@time_check\n",
        "def fib3(n):\n",
        "    seq = [0, 1]\n",
        "    for i in range(2, n + 1):\n",
        "        seq.append(seq[-1] + seq[-2])\n",
        "    return seq[:n + 1]\n",
        "fib2(10000)\n",
        "fib3(10000)"
      ],
      "metadata": {
        "id": "dXuu8LJgg-0r",
        "colab": {
          "base_uri": "https://localhost:8080/"
        },
        "outputId": "9d29220c-9d19-477c-cc06-550d56636233"
      },
      "execution_count": 5,
      "outputs": [
        {
          "output_type": "stream",
          "name": "stdout",
          "text": [
            "0.011645078659057617\n",
            "0.013077497482299805\n"
          ]
        }
      ]
    },
    {
      "cell_type": "markdown",
      "source": [
        "---"
      ],
      "metadata": {
        "id": "fsSegPodwEwZ"
      }
    },
    {
      "cell_type": "markdown",
      "source": [
        "### **Пункт №4**\n",
        "\n",
        "Создайте функцию **make_multiplier(n)**, которая принимает число **n** и возвращает функцию, умножающую переданное ей число на **n**.\n",
        "\n",
        "**Пример использования:**\n",
        "\n",
        "```python\n",
        "def make_multiplier(n):\n",
        "    # Ваш код\n",
        "\n",
        "times3 = make_multiplier(3)\n",
        "print(times3(5))  # Вывод: 15\n",
        "```"
      ],
      "metadata": {
        "id": "Ap04UA6ZtoK1"
      }
    },
    {
      "cell_type": "code",
      "source": [
        "# Ваш код\n",
        "def make_multiplier(n):\n",
        "  def f(x):\n",
        "    return n*x\n",
        "  return f\n",
        "times3 = make_multiplier(3)\n",
        "print(times3(5))"
      ],
      "metadata": {
        "id": "HasdSjestowl",
        "colab": {
          "base_uri": "https://localhost:8080/"
        },
        "outputId": "781ab5ca-7e73-42d2-ac02-2d21b6c80624"
      },
      "execution_count": 6,
      "outputs": [
        {
          "output_type": "stream",
          "name": "stdout",
          "text": [
            "15\n"
          ]
        }
      ]
    },
    {
      "cell_type": "markdown",
      "source": [
        "---"
      ],
      "metadata": {
        "id": "MIPkER_LwD_0"
      }
    },
    {
      "cell_type": "markdown",
      "source": [
        "### **Пункт №5**\n",
        "\n",
        "Реализуйте функцию с замыканием, которая настраивает округление чисел до заданного количества знаков после запятой.\n",
        "\n",
        "**Пример:**\n",
        "\n",
        "```python\n",
        "def rounder(n):\n",
        "    # Ваш код\n",
        "\n",
        "round_to_2 = rounder(2)\n",
        "print(round_to_2(3.14159))  # Вывод: 3.14\n",
        "```\n"
      ],
      "metadata": {
        "id": "mTwh5dIqto8N"
      }
    },
    {
      "cell_type": "code",
      "source": [
        "# Ваш код\n",
        "def rounder(n):\n",
        "  def f(x):\n",
        "    return round(x,n)\n",
        "  return f\n",
        "round_to_2 = rounder(2)\n",
        "print(round_to_2(3.14159))"
      ],
      "metadata": {
        "id": "zjlE-viztpDo",
        "colab": {
          "base_uri": "https://localhost:8080/"
        },
        "outputId": "3a684e16-da45-4cd3-f910-befdc1eb4303"
      },
      "execution_count": 7,
      "outputs": [
        {
          "output_type": "stream",
          "name": "stdout",
          "text": [
            "3.14\n"
          ]
        }
      ]
    },
    {
      "cell_type": "markdown",
      "source": [
        "---"
      ],
      "metadata": {
        "id": "6u2MeXBiwAyf"
      }
    },
    {
      "cell_type": "markdown",
      "source": [
        "### **Пункт №6**\n",
        "\n",
        "Напишите **декоратор**, который измеряет время исполнения функции и выводит его на экран, только если время превышает определённый порог.\n",
        "\n",
        "**Пример:**\n",
        "\n",
        "```python\n",
        "@time_threshold(threshold=0.5)\n",
        "def long_running_function():\n",
        "    # Долгий код\n",
        "\n",
        "long_running_function()\n",
        "# Выводится время выполнения только если оно больше 0.5 секунд\n",
        "```"
      ],
      "metadata": {
        "id": "i5A4zQl5tpKJ"
      }
    },
    {
      "cell_type": "code",
      "source": [
        "# Ваш код\n",
        "import time\n",
        "from functools import wraps\n",
        "\n",
        "def time_threshold(threshold):\n",
        "    def decorator(func):\n",
        "        @wraps(func)\n",
        "        def wrapper(*args, **kwargs):\n",
        "            start_time = time.time()\n",
        "            result = func(*args, **kwargs)\n",
        "            end_time = time.time()\n",
        "\n",
        "            time1 = end_time - start_time\n",
        "\n",
        "            if time1 > threshold:\n",
        "                print(time1)\n",
        "\n",
        "            return result\n",
        "        return wrapper\n",
        "    return decorator\n",
        "\n",
        "@time_threshold(threshold=0.5)\n",
        "def long_running_function():\n",
        "    time.sleep(1)\n",
        "\n",
        "long_running_function()\n"
      ],
      "metadata": {
        "id": "LMGleXaetpP6",
        "colab": {
          "base_uri": "https://localhost:8080/"
        },
        "outputId": "b46b3cf7-4a10-44d7-fd51-166c7f07be5a"
      },
      "execution_count": 12,
      "outputs": [
        {
          "output_type": "stream",
          "name": "stdout",
          "text": [
            "1.0001375675201416\n"
          ]
        }
      ]
    },
    {
      "cell_type": "markdown",
      "source": [
        "---"
      ],
      "metadata": {
        "id": "Ag0rUJm-wIK1"
      }
    },
    {
      "cell_type": "markdown",
      "source": [
        "## **II. Итераторы и генераторы**"
      ],
      "metadata": {
        "id": "tu5ZanR_8j_R"
      }
    },
    {
      "cell_type": "markdown",
      "source": [
        "---\n",
        "\n",
        "### **Пункт №1. Генератор строк фиксированной длины**\n",
        "\n",
        "Напишите генератор `string_generator(char, times)`, который генерирует строки, состоящие из символа `char`, повторенного от 1 до `times` раз.\n",
        "\n",
        "```python\n",
        "# Пример использования:\n",
        "for s in string_generator('*', 5):\n",
        "    print(s)\n",
        "# Вывод:\n",
        "# *\n",
        "# **\n",
        "# ***\n",
        "# ****\n",
        "# *****\n",
        "```\n",
        "\n"
      ],
      "metadata": {
        "id": "7KQ8huR-8C_4"
      }
    },
    {
      "cell_type": "markdown",
      "source": [
        "---"
      ],
      "metadata": {
        "id": "ktfqCVPY-Mlx"
      }
    },
    {
      "cell_type": "code",
      "source": [
        "# Ваш код\n",
        "def string_generator(char, times):\n",
        "  for i in range(1,times+1):\n",
        "    yield char*i\n",
        "\n",
        "for s in string_generator('*', 5):\n",
        "  print(s)"
      ],
      "metadata": {
        "id": "uvI-Ebqu98bW",
        "colab": {
          "base_uri": "https://localhost:8080/"
        },
        "outputId": "438fbc13-7552-4c4e-8a80-91441fd69540"
      },
      "execution_count": 14,
      "outputs": [
        {
          "output_type": "stream",
          "name": "stdout",
          "text": [
            "*\n",
            "**\n",
            "***\n",
            "****\n",
            "*****\n"
          ]
        }
      ]
    },
    {
      "cell_type": "markdown",
      "source": [
        "---\n",
        "\n",
        "### **Пункт №2. Генератор бесконечной последовательности**\n",
        "\n",
        "Создайте бесконечный генератор `infinite_sequence()`, который с каждым вызовом возвращает следующее число, начиная с 1.\n",
        "\n",
        "```python\n",
        "# Пример использования:\n",
        "gen = infinite_sequence()\n",
        "for _ in range(5):\n",
        "    print(next(gen))\n",
        "# Вывод:\n",
        "# 1\n",
        "# 2\n",
        "# 3\n",
        "# 4\n",
        "# 5\n",
        "```\n",
        "\n",
        "---"
      ],
      "metadata": {
        "id": "zDtiD8Rl9Oqu"
      }
    },
    {
      "cell_type": "code",
      "source": [
        "# Ваш код\n",
        "def infinite_sequence():\n",
        "  n=1\n",
        "  while True:\n",
        "    yield n\n",
        "    n+=1\n",
        "gen = infinite_sequence()\n",
        "for _ in range(5):\n",
        "    print(next(gen))\n",
        "\n"
      ],
      "metadata": {
        "id": "Yotj0YMK-Avy",
        "colab": {
          "base_uri": "https://localhost:8080/"
        },
        "outputId": "86cb252b-2598-4cb4-d8df-b5066440fd05"
      },
      "execution_count": 17,
      "outputs": [
        {
          "output_type": "stream",
          "name": "stdout",
          "text": [
            "1\n",
            "2\n",
            "3\n",
            "4\n",
            "5\n"
          ]
        }
      ]
    },
    {
      "cell_type": "markdown",
      "source": [
        "---\n",
        "\n",
        "### **Пункт №3. Генератор комбинированных списков**\n",
        "\n",
        "Создайте генератор `combined_lists(lst1, lst2)`, который попеременно возвращает элементы из `lst1` и `lst2`. Если длины списков неравны, генератор должен остановиться при исчерпании более короткого списка.\n",
        "\n",
        "```python\n",
        "# Пример использования:\n",
        "for item in combined_lists([1, 2, 3], ['a', 'b', 'c', 'd']):\n",
        "    print(item)\n",
        "# Вывод:\n",
        "# 1\n",
        "# 'a'\n",
        "# 2\n",
        "# 'b'\n",
        "# 3\n",
        "# 'c'\n",
        "```"
      ],
      "metadata": {
        "id": "rJQEC1n19KHE"
      }
    },
    {
      "cell_type": "markdown",
      "source": [
        "---"
      ],
      "metadata": {
        "id": "1h8fsmju-LQh"
      }
    },
    {
      "cell_type": "code",
      "source": [
        "# Ваш код\n",
        "def combined_lists(lst1, lst2):\n",
        "  m=min(len(lst1),len(lst2))\n",
        "  for i in range(m):\n",
        "    yield lst1[i]\n",
        "    yield lst2[i]\n",
        "for item in combined_lists([1, 2, 3], ['a', 'b', 'c', 'd']):\n",
        "    print(item)"
      ],
      "metadata": {
        "id": "_kcrlmgU-Bmz",
        "colab": {
          "base_uri": "https://localhost:8080/"
        },
        "outputId": "0dacc315-414d-417f-8aae-dbb22486f4c4"
      },
      "execution_count": 18,
      "outputs": [
        {
          "output_type": "stream",
          "name": "stdout",
          "text": [
            "1\n",
            "a\n",
            "2\n",
            "b\n",
            "3\n",
            "c\n"
          ]
        }
      ]
    },
    {
      "cell_type": "markdown",
      "source": [
        "---\n",
        "\n",
        "### **Пункт №4. Генератор перевернутой строки**\n",
        "\n",
        "Напишите генератор `reverse_string(s)`, который при каждом вызове возвращает следующий символ строки `s` в обратном порядке.\n",
        "\n",
        "```python\n",
        "# Пример использования:\n",
        "for char in reverse_string('hello'):\n",
        "    print(char)\n",
        "# Вывод:\n",
        "# o\n",
        "# l\n",
        "# l\n",
        "# e\n",
        "# h\n",
        "```"
      ],
      "metadata": {
        "id": "CEXaNzJX9B1D"
      }
    },
    {
      "cell_type": "markdown",
      "source": [
        "---"
      ],
      "metadata": {
        "id": "L9WQ5Jpq-JaO"
      }
    },
    {
      "cell_type": "code",
      "source": [
        "# Ваш код\n",
        "def reverse_string(s):\n",
        "  for i in range(len(s)-1,-1,-1):\n",
        "    yield s[i]\n",
        "for char in reverse_string('hello'):\n",
        "    print(char)\n",
        ""
      ],
      "metadata": {
        "id": "5w9xT0eR-CBf",
        "colab": {
          "base_uri": "https://localhost:8080/"
        },
        "outputId": "ff5ebc2d-35c6-4188-bc76-d154a39fa57e"
      },
      "execution_count": 19,
      "outputs": [
        {
          "output_type": "stream",
          "name": "stdout",
          "text": [
            "o\n",
            "l\n",
            "l\n",
            "e\n",
            "h\n"
          ]
        }
      ]
    },
    {
      "cell_type": "markdown",
      "source": [
        "---\n",
        "\n",
        "### **Пункт №5. Генератор степеней двойки**\n",
        "\n",
        "Создайте генератор `powers_of_two(n)`, который возвращает степени двойки от 2^0 до 2^n.\n",
        "\n",
        "```python\n",
        "# Пример использования:\n",
        "for num in powers_of_two(5):\n",
        "    print(num)\n",
        "# Вывод:\n",
        "# 1  # 2^0\n",
        "# 2  # 2^1\n",
        "# 4  # 2^2\n",
        "# 8  # 2^3\n",
        "# 16 # 2^4\n",
        "# 32 # 2^5\n",
        "```\n",
        "\n",
        "---"
      ],
      "metadata": {
        "id": "GNykcs8D8-Je"
      }
    },
    {
      "cell_type": "code",
      "source": [
        "# Ваш код\n",
        "def powers_of_two(n):\n",
        "  for i in range(0,n+1):\n",
        "    yield 2**i\n",
        "for num in powers_of_two(5):\n",
        "    print(num)"
      ],
      "metadata": {
        "id": "LjNW3m-y-CXj",
        "colab": {
          "base_uri": "https://localhost:8080/"
        },
        "outputId": "7eba79d8-d087-42f5-8ae7-30f9f655c605"
      },
      "execution_count": 20,
      "outputs": [
        {
          "output_type": "stream",
          "name": "stdout",
          "text": [
            "1\n",
            "2\n",
            "4\n",
            "8\n",
            "16\n",
            "32\n"
          ]
        }
      ]
    },
    {
      "cell_type": "markdown",
      "source": [
        "---"
      ],
      "metadata": {
        "id": "OU71icWn-Ggg"
      }
    },
    {
      "cell_type": "markdown",
      "source": [
        "### **Пункт №6. Генератор чисел из строки**\n",
        "\n",
        "Напишите генератор `number_extractor(s)`, который извлекает числа из заданной строки `s` и возвращает их как целые числа.\n",
        "\n",
        "```python\n",
        "# Пример использования:\n",
        "for num in number_extractor('abc123def45gh6'):\n",
        "    print(num)\n",
        "# Вывод:\n",
        "# 123\n",
        "# 45\n",
        "# 6\n",
        "```"
      ],
      "metadata": {
        "id": "w5gcNZCM829V"
      }
    },
    {
      "cell_type": "markdown",
      "source": [
        "---"
      ],
      "metadata": {
        "id": "oJt2kxt8-FUP"
      }
    },
    {
      "cell_type": "code",
      "source": [
        "# Ваш код\n",
        "def number_extractor(s):\n",
        "  num = ''\n",
        "  for char in s:\n",
        "      if char.isdigit():\n",
        "        num += char\n",
        "      elif num:\n",
        "        yield int(num)\n",
        "        num = ''\n",
        "  if num:\n",
        "        yield int(num)\n",
        "for num in number_extractor('abc123def45gh6'):\n",
        "    print(num)"
      ],
      "metadata": {
        "id": "zDYVvuBX-C9M",
        "colab": {
          "base_uri": "https://localhost:8080/"
        },
        "outputId": "a54f1f5a-ecae-4581-b6df-3641a741de6f"
      },
      "execution_count": 23,
      "outputs": [
        {
          "output_type": "stream",
          "name": "stdout",
          "text": [
            "123\n",
            "45\n",
            "6\n"
          ]
        }
      ]
    },
    {
      "cell_type": "markdown",
      "source": [
        "---"
      ],
      "metadata": {
        "id": "h6ztzyUn-D5n"
      }
    }
  ]
}